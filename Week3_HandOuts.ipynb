{
  "nbformat": 4,
  "nbformat_minor": 0,
  "metadata": {
    "colab": {
      "provenance": [],
      "authorship_tag": "ABX9TyM86ubpD2YCw5Z9gRfdIeQH",
      "include_colab_link": true
    },
    "kernelspec": {
      "name": "python3",
      "display_name": "Python 3"
    },
    "language_info": {
      "name": "python"
    }
  },
  "cells": [
    {
      "cell_type": "markdown",
      "metadata": {
        "id": "view-in-github",
        "colab_type": "text"
      },
      "source": [
        "<a href=\"https://colab.research.google.com/github/MMBAYAR/OMBA/blob/main/Week3_HandOuts.ipynb\" target=\"_parent\"><img src=\"https://colab.research.google.com/assets/colab-badge.svg\" alt=\"Open In Colab\"/></a>"
      ]
    },
    {
      "cell_type": "markdown",
      "source": [
        "###**Eg.1**\n",
        "Bibbins Manufacturing produces softball and baseballs for youth recreation leagues. Each\n",
        "softball costs \\\\$11 to produce and sells for \\\\$17 while each baseball costs \\\\$10.50 and sells\n",
        "for \\\\$15. The material and labor required to produce each item is listed here along with the\n",
        "availability of each resource.\n",
        "<br><br>\n",
        "\\begin{array}{llll}\n",
        "\\bf{Resource} & \\bf{Softball} & \\bf{Baseball} & \\bf{Available}\\\\\n",
        "Leather & 5\\ oz & 4\\ oz & 6000\\ oz \\\\\n",
        "Nylon & 6\\ yds & 3\\ oz & 5400\\ yds \\\\\n",
        "Core & 4\\ oz & 2\\ oz & 4000\\ oz \\\\\n",
        "Labor & 2.5\\ min & 2\\ oz & 3500\\ min \\\\\n",
        "Stitching & 1\\ min & 1\\ oz & 1500\\ min\n",
        "\\end{array}\n",
        "<br>\n",
        "**a.** Formulate an LP model for this problem.<br>\n",
        "**b.** Sketch the feasible region. [Use **desmos** graphing calculator.](https://www.desmos.com/calculator)<br>\n",
        "**c.** What is the optimal solution?\n",
        "<br><br>\n",
        "**<p align='right'>(Ragsdale, 2021, pp.40)</p>**\n",
        "<br>\n",
        "to Solve...\n",
        "- *Use level functions,*\n",
        "- *Enumerate corner points*"
      ],
      "metadata": {
        "id": "JjQtaSSrS7GY"
      }
    },
    {
      "cell_type": "markdown",
      "source": [
        "What your graph should look like?\n",
        "\n",
        "[**GRAPH**](https://www.desmos.com/calculator/lsxf4emqhn)\n",
        "\n",
        "\n",
        "\n",
        "\n",
        "\n"
      ],
      "metadata": {
        "id": "52db9v4gW0Y1"
      }
    },
    {
      "cell_type": "markdown",
      "source": [
        "###**Eg.2**\n",
        "Oakton Manufacturing makes two types of rocking chairs specifically designed for men and\n",
        "women known as the His and Hers models. Each chair requires four legs and two rockers but\n",
        "differing numbers of wooden dowels. Each His chair requires four short dowels and eight long\n",
        "dowels, while each Hers chair requires eight short dowels and four long dowels. Each His chair\n",
        "contributes \\$10 in profit while each Hers chair contributes \\$12. The company has 900 legs, 400\n",
        "rockers, 1200 short dowels, and 1056 long dowels available. The company wants to maximize\n",
        "its profits while also ensuring that the number of His chairs made is at least half the number\n",
        "of Hers chairs.\n",
        "<br><br>\n",
        "**a.** Formulate an LP model for this problem.<br>\n",
        "**b.** Sketch the feasible region. [Use **desmos** graphing calculator.](https://www.desmos.com/calculator)<br>\n",
        "**c.** What is the optimal solution?\n",
        "<br><br>\n",
        "**<p align='right'>(Ragsdale, 2021, pp.41)</p>**\n"
      ],
      "metadata": {
        "id": "MFH56atfW0ub"
      }
    },
    {
      "cell_type": "markdown",
      "source": [
        "###**Eg.3**\n",
        "Krouscas Foods makes a special blend of oil that is popular in Greek cooking. They import\n",
        "oil from two vendors and blend it to ensure that the resulting product contains at least 40%\n",
        "olive oil, 20% sunflower oil, and at least 30% corn oil. Vendor 1 can provide an oil containing\n",
        "50% olive oil, 10% sunflower oil, and 40% corn oil at a cost of \\$9 per gallon. Vendor 2 can\n",
        "provide an oil containing 20% olive oil, 60% sunflower oil, and 20% corn oil at a cost of \\$8\n",
        "per gallon. If Krouscas wants to produce 30 gallons of its special blend of Greek cooking oil\n",
        "at minimum cost, how much oil should it buy from each vendor?\n",
        "<br><br>\n",
        "**a.** Formulate an LP model for this problem.<br>\n",
        "**b.** Sketch the feasible region. [Use **desmos** graphing calculator.](https://www.desmos.com/calculator)<br>\n",
        "**c.** What is the optimal solution?\n",
        "<br><br>\n",
        "**<p align='right'>(Ragsdale, 2021, pp.41)</p>**\n"
      ],
      "metadata": {
        "id": "TfvaiquofIAf"
      }
    },
    {
      "cell_type": "markdown",
      "source": [
        "###**Eg.4**\n",
        "The Gourmet Grill Company manufactures and sells two different types of grills: propane\n",
        "and electric. Each propane grill sells for \\$320 and costs \\$220 to manufacture. Each electric\n",
        "grill sells for \\$260 and costs \\$180 to manufacture. Each grill goes through four operations\n",
        "in the manufacturing process. The hours required by each type of grill in each of these\n",
        "manufacturing processes is summarized as follows:\n",
        "<br><br>\n",
        "\\begin{array}{lll}\n",
        "\\bf{Manufacturing\\ Process} & \\bf{Propane} & \\bf{Electric}\\\\\n",
        "Machine\\ Press & 2\\ hr & 1\\ hr \\\\\n",
        "Fabrication & 4\\ hr & 5\\ hr\\\\\n",
        "Assembly & 2\\ hr & 3\\ hr\\\\\n",
        "Testing & 1\\ hr & 1\\ hr\n",
        "\\end{array}\n",
        "<br>\n",
        "In the next production cycle there are 2,400 hours of machine press time available,\n",
        "6,000 hours of fabrication, 3,300 hours of assembly, and 1,500 hours of testing capacity.\n",
        "Assume Gourmet Grill can sell everything they make and would like to determine the\n",
        "production plan that would maximize profit.\n",
        "<br><br>\n",
        "**a.** Formulate an LP model for this problem.<br>\n",
        "**b.** Sketch the feasible region. [Use **desmos** graphing calculator.](https://www.desmos.com/calculator)<br>\n",
        "**c.** What is the optimal solution?\n",
        "<br><br>\n",
        "**<p align='right'>(Ragsdale, 2021, pp.41-42)</p>**"
      ],
      "metadata": {
        "id": "Z1O2YQMCfZut"
      }
    },
    {
      "cell_type": "markdown",
      "source": [
        "###**Eg.5**\n",
        "The Electrotech Corporation manufactures two industrial-sized electrical devices: generators\n",
        "and alternators. Both of these products require wiring and testing during the assembly\n",
        "process. Each generator requires 2 hours of wiring and 1 hour of testing and can be sold for a\n",
        "\\$250 profit. Each alternator requires 3 hours of wiring and 2 hours of testing and can be sold\n",
        "for a \\$150 profit. There are 260 hours of wiring time and 140 hours of testing time available\n",
        "in the next production period and Electrotech wants to maximize profit.\n",
        "<br><br>\n",
        "**a.** Formulate an LP model for this problem.<br>\n",
        "**b.** Sketch the feasible region. [Use **desmos** graphing calculator.](https://www.desmos.com/calculator)<br>\n",
        "**c.** What is the optimal solution?\n",
        "<br><br>\n",
        "**<p align='right'>(Ragsdale, 2021, pp.42)</p>**\n"
      ],
      "metadata": {
        "id": "wNzQF06AknKK"
      }
    },
    {
      "cell_type": "markdown",
      "source": [
        "###**Eg.6**\n",
        "Refer to the previous question. Suppose that Electrotech’s management decides that they\n",
        "need to make at least 20 generators and at least 20 alternators.\n",
        "<br><br>\n",
        "**a.** Re-formulate an LP model for this problem.<br>\n",
        "**b.** Sketch the feasible region. [Use **desmos** graphing calculator.](https://www.desmos.com/calculator)<br>\n",
        "**c.** What is the optimal solution?<br>\n",
        "**d.** Suppose that Electrotech can acquire additional wiring time at a very favorable cost.\n",
        "Should it do so? Why or why not?\n",
        "<br><br>\n",
        "**<p align='right'>(Ragsdale, 2021, pp.42)</p>**\n"
      ],
      "metadata": {
        "id": "hQeHq77UvUl4"
      }
    },
    {
      "cell_type": "markdown",
      "source": [
        "###**Eg.7**\n",
        "Bill’s Grill is a popular college restaurant that is famous for its hamburgers. The owner of the\n",
        "restaurant, Bill, mixes fresh ground beef and pork with a secret ingredient to make delicious\n",
        "quarter-pound hamburgers that are advertised as having no more than 25% fat. Bill can buy\n",
        "beef containing 80% meat and 20% fat at \\$0.85 per pound. He can buy pork containing 70%\n",
        "meat and 30% fat at \\$0.65 per pound. Bill wants to determine the minimum cost way to\n",
        "blend the beef and pork to make hamburgers that have no more than 25% fat.\n",
        "<br><br>\n",
        "**a.** Formulate an LP model for this problem.<br>\n",
        "**b.** Sketch the feasible region. [Use **desmos** graphing calculator.](https://www.desmos.com/calculator)<br>\n",
        "**c.** What is the optimal solution?\n",
        "<br><br>\n",
        "**<p align='right'>(Ragsdale, 2021, pp.42)</p>**\n"
      ],
      "metadata": {
        "id": "jBldT9gIvuUa"
      }
    },
    {
      "cell_type": "markdown",
      "source": [
        "###**Eg.8**\n",
        "American Auto is evaluating their marketing plan for the sedans, SUVs, and trucks they\n",
        "produce. A TV ad featuring this SUV has been developed. The company estimates each\n",
        "showing of this commercial will cost \\$500,000 and increase sales of SUVs by 3% but reduce\n",
        "sales of trucks by 1% and have no effect of the sales of sedans. The company also has a print\n",
        "ad campaign developed that it can run in various nationally distributed magazines at a cost\n",
        "of \\$750,000 per title. It is estimated that each magazine title the ad runs in will increase the\n",
        "sales of sedans, SUVs, and trucks by 2%, 1%, and 4%, respectively. The company desires to\n",
        "increase sales of sedans, SUVs, and trucks by at least 3%, 14%, and 4%, respectively, in the\n",
        "least costly manner.\n",
        "<br><br>\n",
        "**a.** Formulate an LP model for this problem.<br>\n",
        "**b.** Sketch the feasible region. [Use **desmos** graphing calculator.](https://www.desmos.com/calculator)<br>\n",
        "**c.** What is the optimal solution?\n",
        "<br><br>\n",
        "**<p align='right'>(Ragsdale, 2021, pp.42)</p>**\n"
      ],
      "metadata": {
        "id": "Xk2Df1unwERQ"
      }
    },
    {
      "cell_type": "markdown",
      "source": [
        "###**Eg.9**\n",
        "The marketing manager for Mountain Mist soda needs to decide how many TV spots and\n",
        "magazine ads to run during the next quarter. Each TV spot costs \\$5,000 and is expected to\n",
        "increase sales by 300,000 cans. Each magazine ad costs \\$2,000 and is expected to increase\n",
        "sales by 500,000 cans. A total of \\$100,000 may be spent on TV and magazine ads; however,\n",
        "Mountain Mist wants to spend no more than \\$70,000 on TV spots and no more than \\$50,000\n",
        "on magazine ads. Mountain Mist earns a profit of \\$0.05 on each can it sells.\n",
        "<br><br>\n",
        "**a.** Formulate an LP model for this problem.<br>\n",
        "**b.** Sketch the feasible region. [Use **desmos** graphing calculator.](https://www.desmos.com/calculator)<br>\n",
        "**c.** What is the optimal solution?\n",
        "<br><br>\n",
        "**<p align='right'>(Ragsdale, 2021, pp.42)</p>**\n"
      ],
      "metadata": {
        "id": "1j5Iy7bbwWh3"
      }
    },
    {
      "cell_type": "markdown",
      "source": [
        "###**Eg.10**\n",
        "Blacktop Refining extracts minerals from ore mined at two different sites in Montana. Each\n",
        "ton of ore type 1 contains 20% copper, 20% zinc and 15% magnesium. Each ton of ore type 2\n",
        "contains 30% copper, 25% zinc and 10% magnesium. Ore type 1 costs \\$90 per ton while ore\n",
        "type 2 costs \\$120 per ton. Blacktop would like to buy enough ore to extract at least 8 tons of\n",
        "copper, 6 tons of zinc, and 5 tons of magnesium in the least costly manner.\n",
        "<br><br>\n",
        "**a.** Formulate an LP model for this problem.<br>\n",
        "**b.** Sketch the feasible region. [Use **desmos** graphing calculator.](https://www.desmos.com/calculator)<br>\n",
        "**c.** What is the optimal solution?\n",
        "<br><br>\n",
        "**<p align='right'>(Ragsdale, 2021, pp.43)</p>**\n"
      ],
      "metadata": {
        "id": "O1VVjgc-wrcO"
      }
    },
    {
      "cell_type": "markdown",
      "source": [
        "###**Eg.11**\n",
        "Zippy motorcycle manufacturing produces two popular pocket bikes (miniature motorcycles\n",
        "with 49cc engines): the Razor and the Zoomer. In the coming week the manufacturer wants to\n",
        "produce up to 700 bikes and wants to ensure the number of Razors produced does not exceed\n",
        "the number of Zoomer by more than 300. Each Razor produced and sold results in a profit\n",
        "of \\$70 while each Zoomer results in a profit of \\$40. The bikes are identical mechanically and\n",
        "only differ in the appearance of the polymer-based trim around the fuel tank and seat. Each\n",
        "Razor’s trim requires 2 pounds of polymer and 3 hours of production time while each Zoomer\n",
        "requires 1 pound of polymer and 4 hours of production time. Assume that 900 pounds of\n",
        "polymer and 2,400 labor hours are available for production of these items in the coming week.\n",
        "<br><br>\n",
        "**a.** Formulate an LP model for this problem.<br>\n",
        "**b.** Sketch the feasible region. [Use **desmos** graphing calculator.](https://www.desmos.com/calculator)<br>\n",
        "**c.** What is the optimal solution?\n",
        "<br><br>\n",
        "**<p align='right'>(Ragsdale, 2021, pp.43)</p>**\n"
      ],
      "metadata": {
        "id": "pvabS84dxEIz"
      }
    },
    {
      "cell_type": "markdown",
      "source": [
        "###**Eg.12**\n",
        "The Quality Desk Company makes two types of computer desks from laminated particle\n",
        "board. The Presidential model requires 30 square feet of particle board, 1 keyboard sliding\n",
        "mechanism, and 5 hours of labor to fabricate, and sells for \\$149. The Senator model requires\n",
        "24 square feet of particle board, 1 keyboard sliding mechanism, and 3 hours of labor to\n",
        "fabricate, and sells for \\$135. In the coming week the company can buy up to 15,000 square\n",
        "feet of particle board at a price of \\$1.35 per square foot and up to 600 keyboard sliding\n",
        "mechanisms at a cost of \\$4.75 each. The company view manufacturing labor as a fixed cost\n",
        "and has 3,000 labor hours available in the coming week for the fabrication of these desks.\n",
        "<br><br>\n",
        "**a.** Formulate an LP model for this problem.<br>\n",
        "**b.** Sketch the feasible region. [Use **desmos** graphing calculator.](https://www.desmos.com/calculator)<br>\n",
        "**c.** What is the optimal solution?\n",
        "<br><br>\n",
        "**<p align='right'>(Ragsdale, 2021, pp.43)</p>**\n"
      ],
      "metadata": {
        "id": "KidpXHsexQet"
      }
    },
    {
      "cell_type": "markdown",
      "source": [
        "###**Eg.13**\n",
        "The Quality Desk Company makes two types of computer desks from laminated particle\n",
        "board. The Presidential model requires 30 square feet of particle board, 1 keyboard sliding\n",
        "mechanism, and 5 hours of labor to fabricate, and sells for \\$149. The Senator model requires\n",
        "24 square feet of particle board, 1 keyboard sliding mechanism, and 3 hours of labor to\n",
        "fabricate, and sells for \\$135. In the coming week the company can buy up to 15,000 square\n",
        "feet of particle board at a price of \\$1.35 per square foot and up to 600 keyboard sliding\n",
        "mechanisms at a cost of \\$4.75 each. The company view manufacturing labor as a fixed cost\n",
        "and has 3,000 labor hours available in the coming week for the fabrication of these desks.\n",
        "<br><br>\n",
        "**a.** Formulate an LP model for this problem.<br>\n",
        "**b.** Sketch the feasible region. [Use **desmos** graphing calculator.](https://www.desmos.com/calculator)<br>\n",
        "**c.** What is the optimal solution?\n",
        "<br><br>\n",
        "**<p align='right'>(Ragsdale, 2021, pp.43)</p>**\n"
      ],
      "metadata": {
        "id": "G3KRN_qVxbj2"
      }
    },
    {
      "cell_type": "markdown",
      "source": [
        "###**Eg.14**\n",
        "A farmer in Georgia has a 100-acre farm on which to plant watermelons and cantaloupes.\n",
        "Every acre planted with watermelons requires 50 gallons of water per day and must be\n",
        "prepared for planting with 20 pounds of fertilizer. Every acre planted with cantaloupes\n",
        "requires 75 gallons of water per day and must be prepared for planting with 15 pounds of\n",
        "fertilizer. The farmer estimates that it will take 2 hours of labor to harvest each acre planted\n",
        "with watermelons and 2.5 hours to harvest each acre planted with cantaloupes. He believes\n",
        "that watermelons will sell for about \\$3 each, and cantaloupes will sell for about \\$1 each. Every\n",
        "acre planted with watermelons is expected to yield 90 salable units. Every acre planted with\n",
        "cantaloupes is expected to yield 300 salable units. The farmer can pump about 6,000 gallons\n",
        "of water per day for irrigation purposes from a shallow well. He can buy as much fertilizer as\n",
        "he needs at a cost of \\$10 per 50-pound bag. Finally, the farmer can hire laborers to harvest\n",
        "the fields at a rate of \\$5 per hour. If the farmer sells all the watermelons and cantaloupes he\n",
        "produces, how many acres of each crop should the farmer plant in order to maximize profits?\n",
        "<br><br>\n",
        "**a.** Formulate an LP model for this problem.<br>\n",
        "**b.** Sketch the feasible region. [Use **desmos** graphing calculator.](https://www.desmos.com/calculator)<br>\n",
        "**c.** What is the optimal solution?\n",
        "<br><br>\n",
        "**<p align='right'>(Ragsdale, 2021, pp.43)</p>**\n"
      ],
      "metadata": {
        "id": "3A3gNreBx2pA"
      }
    },
    {
      "cell_type": "markdown",
      "source": [
        "###**Eg.15**\n",
        "A farmer in Georgia has a 100-acre farm on which to plant watermelons and cantaloupes.\n",
        "Every acre planted with watermelons requires 50 gallons of water per day and must be\n",
        "prepared for planting with 20 pounds of fertilizer. Every acre planted with cantaloupes\n",
        "requires 75 gallons of water per day and must be prepared for planting with 15 pounds of\n",
        "fertilizer. The farmer estimates that it will take 2 hours of labor to harvest each acre planted\n",
        "with watermelons and 2.5 hours to harvest each acre planted with cantaloupes. He believes\n",
        "that watermelons will sell for about \\$3 each, and cantaloupes will sell for about \\$1 each. Every\n",
        "acre planted with watermelons is expected to yield 90 salable units. Every acre planted with\n",
        "cantaloupes is expected to yield 300 salable units. The farmer can pump about 6,000 gallons\n",
        "of water per day for irrigation purposes from a shallow well. He can buy as much fertilizer as\n",
        "he needs at a cost of \\$10 per 50-pound bag. Finally, the farmer can hire laborers to harvest\n",
        "the fields at a rate of \\$5 per hour. If the farmer sells all the watermelons and cantaloupes he\n",
        "produces, how many acres of each crop should the farmer plant in order to maximize profits?\n",
        "<br><br>\n",
        "**a.** Formulate an LP model for this problem.<br>\n",
        "**b.** Sketch the feasible region. [Use **desmos** graphing calculator.](https://www.desmos.com/calculator)<br>\n",
        "**c.** What is the optimal solution?\n",
        "<br><br>\n",
        "**<p align='right'>(Ragsdale, 2021, pp.43-44)</p>**\n"
      ],
      "metadata": {
        "id": "ispepYWrxtVJ"
      }
    },
    {
      "cell_type": "markdown",
      "source": [
        "###**Eg.16**\n",
        "Sanderson Manufacturing produces ornate, decorative wood frame doors and windows. Each\n",
        "item produced goes through three manufacturing processes: cutting, sanding, and finishing.\n",
        "Each door produced requires 1 hour in cutting, 30 minutes in sanding, and 30 minutes in finishing. Each window requires 30 minutes in cutting, 45 minutes in sanding, and 1 hour in\n",
        "finishing. In the coming week Sanderson has 40 hours of cutting capacity available, 40 hours\n",
        "of sanding capacity, and 60 hours of finishing capacity. Assume all doors produced can be\n",
        "sold for a profit of \\$500 and all windows can be sold for a profit of \\$400.\n",
        "<br><br>\n",
        "**a.** Formulate an LP model for this problem.<br>\n",
        "**b.** Sketch the feasible region. [Use **desmos** graphing calculator.](https://www.desmos.com/calculator)<br>\n",
        "**c.** What is the optimal solution?\n",
        "<br><br>\n",
        "**<p align='right'>(Ragsdale, 2021, pp.43-44)</p>**\n"
      ],
      "metadata": {
        "id": "O3_8K4UYyR_2"
      }
    },
    {
      "cell_type": "markdown",
      "source": [
        "###**Eg.17**\n",
        "PC-Express is a computer retail store that sells desktops and laptops. The company earns \\$600\n",
        "on each desktop computer it sells and \\$900 on each laptop. The computers PC-Express sells\n",
        "are actually manufactured by another company. This manufacturer has a special order to fill\n",
        "for another customer and cannot ship more than 80 desktops and 75 laptops to PC-Express\n",
        "next month. The employees at PC-Express must spend about 2 hours installing software\n",
        "and checking each desktop computer they sell. They spend roughly 3 hours to complete this\n",
        "process for laptop computers. They expect to have about 300 hours available for this purpose\n",
        "during the next month. The store’s management is fairly certain that they can sell all the\n",
        "computers they order, but are unsure how many desktops and laptops they should order to\n",
        "maximize profits.\n",
        "<br><br>\n",
        "**a.** Formulate an LP model for this problem.<br>\n",
        "**b.** Sketch the feasible region. [Use **desmos** graphing calculator.](https://www.desmos.com/calculator)<br>\n",
        "**c.** What is the optimal solution?\n",
        "<br><br>\n",
        "**<p align='right'>(Ragsdale, 2021, pp.44)</p>**\n"
      ],
      "metadata": {
        "id": "VVUW-QZEyfb4"
      }
    },
    {
      "cell_type": "markdown",
      "source": [
        "## **References**\n",
        "<br>\n",
        "Ragsdale, C. (2021). Spreadsheet modeling and decision analysis: a practical introduction to business analytics. Cengage Learning."
      ],
      "metadata": {
        "id": "VSf0DTrhWTnQ"
      }
    },
    {
      "cell_type": "code",
      "source": [],
      "metadata": {
        "id": "T1496KLuWRtb"
      },
      "execution_count": null,
      "outputs": []
    }
  ]
}