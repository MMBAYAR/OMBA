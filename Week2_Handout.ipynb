{
  "nbformat": 4,
  "nbformat_minor": 0,
  "metadata": {
    "colab": {
      "name": "Week2_Handout.ipynb",
      "provenance": [],
      "collapsed_sections": [],
      "mount_file_id": "1TBk7T6ZHIK0KgSPzOrMbVvrUi7KS-T9G",
      "authorship_tag": "ABX9TyNBa/XwJeIdBu4dpTf/wr2R",
      "include_colab_link": true
    },
    "kernelspec": {
      "name": "python3",
      "display_name": "Python 3"
    },
    "language_info": {
      "name": "python"
    }
  },
  "cells": [
    {
      "cell_type": "markdown",
      "metadata": {
        "id": "view-in-github",
        "colab_type": "text"
      },
      "source": [
        "<a href=\"https://colab.research.google.com/github/MMBAYAR/OMBA/blob/main/Week2_Handout.ipynb\" target=\"_parent\"><img src=\"https://colab.research.google.com/assets/colab-badge.svg\" alt=\"Open In Colab\"/></a>"
      ]
    },
    {
      "cell_type": "markdown",
      "source": [
        "# **II. Introduction to Linear Programming (LP): Formulating LP models**\n",
        "***\n",
        "***\n",
        "- **OPERATIONS RESEARCH ROADMAP**\n",
        " - **Define your problem (decision var.s, obj. f/n(s), constraints),**\n",
        " - **Collect data & Formulate a model,**\n",
        " - Solve the problem,\n",
        " - Analyze the solution (test it!, further analysis),\n",
        "   - *go back to the first step if necessary*\n",
        " - Implement the solution (make the decision)\n",
        "\n",
        "<br>***for some time our focus will be the first two steps...***\n",
        "***\n",
        "***\n",
        "- **MODELS & MODEL BUILDING**\n",
        "<br><br>\n",
        "<img src='https://doc-0c-5s-docs.googleusercontent.com/docs/securesc/lhktsghhtf79033ie0f03a54q30f1dtt/nobiffua0cb96cdq3n8eaeuni2mto8ig/1656678825000/10107016906539434454/05390514838703297692/1IG2WrwMHDx5NP6cIHGvfj6mJ7PoVhcMj?ax=ACxEAsa9kEmf7vCh0Eg4F8SfPubdtqTk-wUlTzNBpspohg-24GYRN9aSjQvbdC4DSy4oh8XqrHdaqzANVqH8M7NL32GNpQ3_LGqxqUTz0EI3cCV5SRDN2h44Lz4KbJqIU-L2HAnBuXbTskpQCSi5tfrsEj-_JD8g8HmQIOaYLKMmptU6HSssNhZjfRxZUgK9WbtW-W8MKEwC8PRQL7aYC1upqVgVMN-W4XzOAVbfer1k1em72F2pMfIkDD-nSAcs8Tg8tI99NPNeXtYF8DV7FxL-Ax6CxAykEU3wYeTgCXL7NcX-BwPDMaElgI0QjGbb9CmjWs2FZkO10Qa2ARUwcNp6jxNf67PC6_BTDheuDFbmrH_mHz1fgEGxAtl-B235XpMylYFbR7aXar3KDhzqGB8lDW3gVQ6Ck0d4bWXBw4rtqYMPScaLd3pPlhvN0FpOKgE6kli3La7Z4_ZMZxvBdxFnJBb9HeNmE8FWEh2vftsh6d2y7yAGro-oaLX97OpryDdekyEnleseJMmVloymRTSRvFDo8x6iP2KyvLEb7Dd6hTmUA2dRCEN0EiJ5eXI5PtVs0fcZWN6xI36ojAYwuMX8ce4KyGru1kwlSUtxNqZX-bJiYV4jRwJosp5aYebNLmlsR2VOVsXzIWdF36X9afHHFyNovxeoeBIyXHlBQCsGYDJ8xwFIStMaQCSDQWgp5gLoKr-jNab4WZ5bwDwQbDk08X00hcWCbBwezSy89YXyoxyrIwgBCnTDAbLDp7vsfPCoUpWMbFNUTtWUngkB_VsDz2Q&uuid=1e158f51-38be-4163-9f83-08b51892e78e&authuser=1&nonce=8neatum7d4gqu&user=05390514838703297692&hash=ler04q8aigm5238b0gd032gdbphvgb3d' heigth = 800 width = 536 >\n",
        "\n",
        "A quote on models...\n",
        "<br>\n",
        ">> \"Young children learn much about the world around them by playing with ***toy\n",
        "versions of real objects***. For instance, they often put together models of cars,\n",
        "trains, or planes.***These models are far from realistic, but the model-builder learns a lot from them*** nonetheless.The model illustrates the essence of the real object it is designed to resemble.\n",
        "<br>Economists also use models to understand the world, but an economist’s\n",
        "***model is more likely to be made of symbols and equations than plastic and glue.***\"\n",
        "<br> \n",
        "<p align='right'>(Mankiw, N. G. (2003). Macroeconomics (5th ed.). Worth Publishers.)</p>\n",
        "\n",
        "***\n",
        "**Once Again Why LP ?**\n",
        "<br><br>LP assumes linearity for all functions and models are abstractions of the decision environments.\n",
        "<br>In all real life situations;\n",
        "- Are all relationships linear?\n",
        " - Sadly, no. Say you are going to buy 2 truck loads of an item instead of just one, would you care for negotiating the price? Do you think you would have bargaining power?\n",
        "- Can we come up with good (representative) linear approximations for all kind of functions?\n",
        " - Unless we are talking about piece-wise-linear approximations, no we can not... And, if we have piece-wise-linear functions, we still won't be able to formulate them as an LP (we may get back to this topic).\n",
        "- What perks does LP provide over Non-Linear Programming?\n",
        " - see Fundemental Theorem of Linear Programming\n",
        " <br> If the there exists any solution to the LP, then there also exists at least one optimal solution (***global optimum***).\n",
        " <br><br> The constraints simultaneously define the solution set to an LP.\n",
        " <br>The corner points of the solution set to an LP are candidates for the optimal solution(s). You just have to search among the corner points instead of the whole solution set.\n",
        " > If the solution set to an LP is a closed set then it is called a ***polytope*** (think of a polygon). And if it not a closed set then it is a ***polyhedron***.)\n",
        "\n",
        " - It is ***easier*** to formulate linear programs then non-linear models.\n",
        "***\n",
        "**Recap: Some LP Concepts**\n",
        " - Decision variables,\n",
        " - Parameters,\n",
        " - Objective function,\n",
        " - Constraints,\n",
        " - Feasine solution,\n",
        " - Solution set (feasible region)\n",
        "***\n",
        "***\n",
        "**Lets Build Our First LP Model**\n",
        "<br><br>\n",
        "FertilizerCO manufactures and sells two type of fertilizers specialized for vegetables or for trees. The prices for vegetable fertilizer and the tree fertilizer are TL30/kg and TL20/kg respectively. FertlizerCO has two inputs in its production processes: potassium and urea. Manufacturing 1 kilo of vegetable fertilzer consumes 1 unit of potassium and 2 units of urea whereas tree fertilizer consumes 1 unit from each input. FertilizerCO currently has 1000 units of urea and 800 units of potassium. FertilizerCo's market is in highlands (cool weather and long dry season). Thus, the company predicts it can not sell more than 400 kilos of the vegetable fertilizer.\n",
        "<br><br>Formulate an LP to maximize the revenues for this company.\n",
        "\n",
        "- <font color=\"purple\">What can the decision-maker directly control, change, alter, decide?</font>\n",
        "- <font color=\"red\">What is the objective?</font>\n",
        "- <font color=\"blue\">What boundaries are implied by the decision environment?</font>\n",
        "- <font color=\"grass\">Which paremeters belong to the objective function or the constraints?</font>\n",
        "***\n",
        "> <font color=\"purple\"> FertilizerCO manufactures and sells two type of fertilizers specialized for vegetables or for trees.  </font><font color=\"red\">The prices for vegetable fertilizer and the tree fertilizer are <font color=\"grass\"> TL30/kg and TL20/kg </font> respectively.</font> <font color=\"Blue\">FertlizerCO has two inputs in its production processes: potassium and urea. Manufacturing 1 kilo of vegetable fertilzer consumes <font color=\"grass\"> 1 </font> unit of potassium and <font color=\"grass\"> 2 </font> units of urea whereas tree fertilizer consumes <font color=\"grass\"> 1 </font> unit from each input. FertilizerCO currently has <font color=\"grass\"> 1000 </font> units of urea and <font color=\"grass\"> 800 </font> units of potassium. FertilizerCo's market is in highlands (cool weather and long dry season). Thus, the company predicts it can not sell more than <font color=\"grass\"> 400 </font> kilos of the vegetable fertilizer.</font>\n",
        "<br><br><font color=\"red\"> Formulate an LP to maximize the revenues for this company. </font>\n",
        "***\n",
        "- ***Decision Variables:***\n",
        " - $\\begin{array}{ll} x_1 : & Amount\\ of\\ vegetable\\ fertilizer\\ produced\\ (in\\ kilos) \\\\ \n",
        " x_2: & Amount\\ of\\ tree\\ fertilizer\\ produced\\ (in\\ kilos) \\end{array}$\n",
        "***\n",
        "- ***Parameters:***\n",
        " - Objective function coefficients (prices): <br>$\\vec c = \\begin{bmatrix} 30 \\\\ 20  \\end{bmatrix}$\n",
        " - Constraint functions' coefficients (resource consumption rates):<br>A = $\\begin{bmatrix} 1 & 1 \\\\ 2 & 1  \\end{bmatrix}$\n",
        " - Constraint right-hand-side values (inventory): <br>$\\vec b = \\begin{bmatrix} 800 \\\\ 1000  \\end{bmatrix}$\n",
        "***\n",
        "- ***Objective Function:***\n",
        " - $\\begin{array} \\ max & f(\\vec x) = & 30x_1 + 20x_2\n",
        " \\end{array}$\n",
        "***\n",
        "- ***Constraints:***\n",
        " - Potassium constraint:<br>$\\begin{array} \\ 1x_1 + 1x_2 \\leq 800 \\end{array}$\n",
        " - Urea constraint:<br>$\\begin{array} \\ 2x_1 + 1x_2 \\leq 1000 \\end{array}$\n",
        " - ***Non-negativity constraint:***<br>$\\begin{array} \\ x_1, x_2 \\geq 0 \\end{array}$\n",
        "***\n",
        "- ***LP:***\n",
        "<br>\n",
        "$\\begin{array}{lll}\n",
        "max & f(\\vec x) = & 30x_1 + 20x_2\\\\\n",
        "s.t.& & \\\\\n",
        "& &1x_1 + 1x_2 \\leq 800 \\\\\n",
        "& &2x_1 + 1x_2 \\leq 1000 \\\\\n",
        "& &x_1, x_2 \\geq 0\n",
        "\\end{array}$\n",
        " \n",
        " <font color=\"purple\"> green text </font> asd\n",
        "\n",
        "***"
      ],
      "metadata": {
        "id": "9W-iH1UbBf3x"
      }
    },
    {
      "cell_type": "markdown",
      "source": [
        "$\\begin{array}{lll}\n",
        "min & f(\\vec x) = & 3x_1 + 5x_2+ 8x_2\\\\\n",
        "s.t.& & \\\\\n",
        "& &1x_1 + 2x_2 + 0x_3 \\geq 100 \\\\\n",
        "& &3x_1 + 1x_2 + 2x_3 \\geq 70 \\\\\n",
        "& &1x_1 + 1x_2 + 1x_3 \\geq 25 \\\\\n",
        "& &x_j\\geq 0\\ ,\\ j=1, \\dots,3\n",
        "\\end{array}$"
      ],
      "metadata": {
        "id": "2QNgcPdOnm3S"
      }
    },
    {
      "cell_type": "code",
      "source": [
        "#  Installing and importing Gurobi Optimizer module\n",
        "\n",
        "!python -m pip install gurobipy\n",
        "from gurobipy import*"
      ],
      "metadata": {
        "colab": {
          "base_uri": "https://localhost:8080/"
        },
        "id": "z3olOLMdhKYB",
        "outputId": "545ff307-a8f6-4c64-d5b8-91e3b9ede3c6"
      },
      "execution_count": null,
      "outputs": [
        {
          "output_type": "stream",
          "name": "stdout",
          "text": [
            "Looking in indexes: https://pypi.org/simple, https://us-python.pkg.dev/colab-wheels/public/simple/\n",
            "Collecting gurobipy\n",
            "  Downloading gurobipy-9.5.1-cp37-cp37m-manylinux2014_x86_64.whl (11.5 MB)\n",
            "\u001b[K     |████████████████████████████████| 11.5 MB 5.1 MB/s \n",
            "\u001b[?25hInstalling collected packages: gurobipy\n",
            "Successfully installed gurobipy-9.5.1\n"
          ]
        }
      ]
    },
    {
      "cell_type": "code",
      "source": [
        "#  Importing the linear algebra module and giving it a shortname for simplicity\n",
        "import numpy as np\n",
        "\n",
        "#  The objective function coefficients vector\n",
        "c = np.array([3,5,8])\n",
        "\n",
        "#  The technology matrix\n",
        "A = np.array([[1,2,0],\n",
        "              [3,1,2],\n",
        "              [1,1,1],])\n",
        "\n",
        "#  The RHS constants vector\n",
        "b = np.array([100,70,25])"
      ],
      "metadata": {
        "id": "suB43kyHhfDC"
      },
      "execution_count": null,
      "outputs": []
    },
    {
      "cell_type": "code",
      "source": [
        "#  Creating a model\n",
        "m = Model()\n",
        "\n",
        "#  Declaring decision variables\n",
        "x = m.addVars( len(c), vtype = 'c' )\n",
        "\n",
        "#  Constraints\n",
        "for i in range( len(A) ):\n",
        "  m.addConstr(\n",
        "  quicksum( A[i,j]*x[j] for j in range( len(c) ) ) >= b[i]\n",
        "  )\n",
        "\n",
        "#  Objective function\n",
        "m.setObjective( quicksum( c[j]*x[j] for j in range( len(c) ) ) , GRB.MINIMIZE )\n",
        "\n",
        "#  Solving model\n",
        "m.optimize()"
      ],
      "metadata": {
        "colab": {
          "base_uri": "https://localhost:8080/"
        },
        "id": "ghwd8qeUi416",
        "outputId": "3a7f4430-c4c7-46a2-d219-3f0d87ccd3bb"
      },
      "execution_count": null,
      "outputs": [
        {
          "output_type": "stream",
          "name": "stdout",
          "text": [
            "Gurobi Optimizer version 9.5.1 build v9.5.1rc2 (linux64)\n",
            "Thread count: 1 physical cores, 2 logical processors, using up to 2 threads\n",
            "Optimize a model with 3 rows, 3 columns and 8 nonzeros\n",
            "Model fingerprint: 0x66f01bfb\n",
            "Coefficient statistics:\n",
            "  Matrix range     [1e+00, 3e+00]\n",
            "  Objective range  [3e+00, 8e+00]\n",
            "  Bounds range     [0e+00, 0e+00]\n",
            "  RHS range        [2e+01, 1e+02]\n",
            "Presolve removed 0 rows and 1 columns\n",
            "Presolve time: 0.02s\n",
            "Presolved: 3 rows, 2 columns, 6 nonzeros\n",
            "\n",
            "Iteration    Objective       Primal Inf.    Dual Inf.      Time\n",
            "       0    0.0000000e+00   9.250000e+01   0.000000e+00      0s\n",
            "       2    2.5400000e+02   0.000000e+00   0.000000e+00      0s\n",
            "\n",
            "Solved in 2 iterations and 0.03 seconds (0.00 work units)\n",
            "Optimal objective  2.540000000e+02\n"
          ]
        }
      ]
    },
    {
      "cell_type": "code",
      "source": [
        "#  Writng down the solution\n",
        "[x[j].x for j in range( len(c) )], m.objVal "
      ],
      "metadata": {
        "colab": {
          "base_uri": "https://localhost:8080/"
        },
        "id": "uWi-8ZPkkRtU",
        "outputId": "744a7245-aee5-490c-d7d1-ff6b3a28ff52"
      },
      "execution_count": null,
      "outputs": [
        {
          "output_type": "execute_result",
          "data": {
            "text/plain": [
              "([8.0, 46.0, 0.0], 254.0)"
            ]
          },
          "metadata": {},
          "execution_count": 18
        }
      ]
    },
    {
      "cell_type": "code",
      "source": [
        ""
      ],
      "metadata": {
        "id": "VBfZO_0xlsUB"
      },
      "execution_count": null,
      "outputs": []
    }
  ]
}