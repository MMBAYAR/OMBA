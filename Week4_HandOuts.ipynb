{
  "nbformat": 4,
  "nbformat_minor": 0,
  "metadata": {
    "colab": {
      "provenance": [],
      "authorship_tag": "ABX9TyOTTEwn8leRs4aazzg7jSOB",
      "include_colab_link": true
    },
    "kernelspec": {
      "name": "python3",
      "display_name": "Python 3"
    },
    "language_info": {
      "name": "python"
    }
  },
  "cells": [
    {
      "cell_type": "markdown",
      "metadata": {
        "id": "view-in-github",
        "colab_type": "text"
      },
      "source": [
        "<a href=\"https://colab.research.google.com/github/MMBAYAR/OMBA/blob/main/Week4_HandOuts.ipynb\" target=\"_parent\"><img src=\"https://colab.research.google.com/assets/colab-badge.svg\" alt=\"Open In Colab\"/></a>"
      ]
    },
    {
      "cell_type": "markdown",
      "source": [
        "**Note:** You can model and solve your problems using the google sheets. You just need to install the opensolver add-on."
      ],
      "metadata": {
        "id": "SmVV8rYtPmR-"
      }
    },
    {
      "cell_type": "markdown",
      "source": [
        "###**Monet's Production Mix**\n",
        "###*a Production mix problem*\n",
        "The Monet Company produces four types of picture frames, which we label 1, 2, 3,\n",
        "and 4. The four types of frames differ with respect to size, shape, and materials used.\n",
        "Each type requires a certain amount of skilled labor, metal, and glass, as shown in\n",
        "Table 3.2. This table also lists the unit selling price Monet charges for each type of\n",
        "frame. During the coming week, Monet can purchase up to 4000 hours of skilled labor,\n",
        "6000 ounces of metal, and 10,000 ounces of glass. The unit costs are \\$8.00 per labor\n",
        "hour, \\$0.50 per ounce of metal, and \\$0.75 per ounce of glass. Also, market constraints\n",
        "are such that it’s impossible to sell more than 1000 type 1 frames, 2000 type 2 frames,\n",
        "500 type 3 frames, and 1000 type 4 frames. Monet does not want to keep any frames in\n",
        "inventory at the end of the week. What should the company do to maximize its profit for\n",
        "this week?\n",
        "<br><br>\n",
        "\n",
        "\n",
        "&nbsp;|**Frame1**|**Frame2**|**Frame3**|**Frame4**\n",
        ":-|:-:|:-:|:-:|:-:\n",
        "**Skilled labor**|2|1|3|2\n",
        "**Metal**|4|2|1|2\n",
        "**Glass**|6|2|1|2\n",
        "**Selling price**|\\$28.50|\\$12.50|\\$29.25|\\$21.50\n",
        "\n",
        "<br>\n",
        "Use LP to find the mix of frames to produce that maximizes profit.\n",
        "<br><br>\n",
        "<p align='right'>(Winston & Albright, 2009, pp.98-99)</p>"
      ],
      "metadata": {
        "id": "-rjRJpqTCLj-"
      }
    },
    {
      "cell_type": "markdown",
      "source": [
        "- - -\n",
        "Go to [Excel Template](https://docs.google.com/spreadsheets/d/1crKxJExAaZ8lBytJ8kLPF3KFl6TVbLbdWQLL9TFtf5Y/edit?usp=sharing) !\n",
        "- - -"
      ],
      "metadata": {
        "id": "mr8UAdzLH-82"
      }
    },
    {
      "cell_type": "markdown",
      "source": [
        "Modify Monet’s product mix model so that there is\n",
        "no maximum sales constraint.\n",
        "- unbounded?\n",
        "- any changes in optimal solution?\n",
        "- any other effects?"
      ],
      "metadata": {
        "id": "xW2TEQNcIUDt"
      }
    },
    {
      "cell_type": "markdown",
      "source": [
        "###**Producing Footballs at Pigskin**\n",
        "###*a Multi-period production problem*\n",
        "The Pigskin Company produces footballs. Pigskin must decide how many footballs to\n",
        "produce each month. The company has decided to use a 6-month planning horizon. The\n",
        "forecasted demands for the next 6 months are 10,000, 15,000, 30,000, 35,000, 25,000, and\n",
        "10,000. Pigskin wants to meet these demands on time, knowing that it currently has 5000\n",
        "footballs in inventory and that it can use a given month’s production to help meet the de-\n",
        "mand for that month. (For simplicity, assume that production occurs during the month, and\n",
        "demand occurs at the end of the month.) During each month, there is enough production ca-\n",
        "pacity to produce up to 30,000 footballs, and there is enough storage capacity to store up to\n",
        "10,000 footballs at the end of the month, after demand has occurred. The forecasted produc-\n",
        "tion costs per football for the next 6 months are \\$12.50, \\$12.55, \\$12.70, \\$12.80, \\$12.85, and\n",
        "\\$12.95, respectively. The holding cost per football held in inventory at the end of any month\n",
        "is figured at 5% of the production cost for that month. (This cost includes the cost of storage\n",
        "and also the cost of money tied up in inventory.) The selling price for footballs is not con-\n",
        "sidered relevant to the production decision because Pigskin plans to satisfy all customer de-\n",
        "mand exactly when it occurs—at whatever the selling price is. Therefore, Pigskin wants to\n",
        "determine the production schedule that minimizes the total production and holding costs.\n",
        "<br><br>\n",
        "\n",
        "Use LP to find the production schedule that meets demand on time and minimizes total production costs and inventory holding costs.\n",
        "<br><br>\n",
        "<p align='right'>(Winston & Albright, 2009, pp.109)</p>"
      ],
      "metadata": {
        "id": "1Km2p_0ZQDzz"
      }
    },
    {
      "cell_type": "markdown",
      "source": [
        "###Construction of the LP model\n",
        "<br>\n",
        "\n",
        "####*The conservation of the flow constraints:*\n",
        "<br>\n",
        "\n",
        "- let $j$ denote the 6 months in the planning horizon:\n",
        "<br>$j=1,\\dots,6$\n",
        "\n",
        "then;\n",
        " - the demand in month $j$ will be ($D_j$),\n",
        " - the production in month $j$ will be ($P_j$),\n",
        " - the ending inventory at the end of month $j$ will be ($I_j$),\n",
        "<br>and, the beginning inventory will be ($I_0$)\n",
        "\n",
        "**e.g./** *for the first month...*\n",
        "<br>\"$P_1+I_0=D_1+I_1$\"\n",
        "<br>$P_1+5000=10000+I_1$\n",
        "<br><br>and,\n",
        "<br>$P_1 \\leq 30000$\n",
        "<br>$I_1 \\leq 10000$\n",
        "<br><br>cost incurred from production and ending inventory is\n",
        "<br>$\\$12.50P_1 + (0.05)\\$12.50I_1$\n",
        "- - -\n",
        "####***a debate:*** \n",
        "Do we need positive ending inventory at the end of month 6?\n",
        "<br>2 possible strategies:\n",
        "- keeping a buffer (leave it like you found it)\n",
        "- short-sighted cost minimization"
      ],
      "metadata": {
        "id": "MoeVWAXOV0VC"
      }
    },
    {
      "cell_type": "markdown",
      "source": [
        "- - -\n",
        "Go to [Excel Template](https://docs.google.com/spreadsheets/d/1dcE32YSalaBI2KFm5zKQZzP9xZnJodmYcvoh9da1wTI/edit?usp=sharing) !\n",
        "- - -"
      ],
      "metadata": {
        "id": "7KhBR1GKgVC9"
      }
    }
  ]
}