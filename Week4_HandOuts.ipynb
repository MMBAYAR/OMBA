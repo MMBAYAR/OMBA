{
  "nbformat": 4,
  "nbformat_minor": 0,
  "metadata": {
    "colab": {
      "provenance": [],
      "authorship_tag": "ABX9TyPplWoO5278TZ2Ddz3N2wGX",
      "include_colab_link": true
    },
    "kernelspec": {
      "name": "python3",
      "display_name": "Python 3"
    },
    "language_info": {
      "name": "python"
    }
  },
  "cells": [
    {
      "cell_type": "markdown",
      "metadata": {
        "id": "view-in-github",
        "colab_type": "text"
      },
      "source": [
        "<a href=\"https://colab.research.google.com/github/MMBAYAR/OMBA/blob/main/Week4_HandOuts.ipynb\" target=\"_parent\"><img src=\"https://colab.research.google.com/assets/colab-badge.svg\" alt=\"Open In Colab\"/></a>"
      ]
    },
    {
      "cell_type": "markdown",
      "source": [
        "**Note:** You can model and solve your problems using the google sheets. You just need to install the opensolver add-on."
      ],
      "metadata": {
        "id": "SmVV8rYtPmR-"
      }
    },
    {
      "cell_type": "markdown",
      "source": [
        "###**Monet's Production Mix**\n",
        "###*a Production mix problem*\n",
        "The Monet Company produces four types of picture frames, which we label 1, 2, 3,\n",
        "and 4. The four types of frames differ with respect to size, shape, and materials used.\n",
        "Each type requires a certain amount of skilled labor, metal, and glass, as shown in\n",
        "Table 3.2. This table also lists the unit selling price Monet charges for each type of\n",
        "frame. During the coming week, Monet can purchase up to 4000 hours of skilled labor,\n",
        "6000 ounces of metal, and 10,000 ounces of glass. The unit costs are \\$8.00 per labor\n",
        "hour, \\$0.50 per ounce of metal, and \\$0.75 per ounce of glass. Also, market constraints\n",
        "are such that it’s impossible to sell more than 1000 type 1 frames, 2000 type 2 frames,\n",
        "500 type 3 frames, and 1000 type 4 frames. Monet does not want to keep any frames in\n",
        "inventory at the end of the week. What should the company do to maximize its profit for\n",
        "this week?\n",
        "<br><br>\n",
        "\n",
        "\n",
        "&nbsp;|**Frame1**|**Frame2**|**Frame3**|**Frame4**\n",
        ":-|:-:|:-:|:-:|:-:\n",
        "**Skilled labor**|2|1|3|2\n",
        "**Metal**|4|2|1|2\n",
        "**Glass**|6|2|1|2\n",
        "**Selling price**|\\$28.50|\\$12.50|\\$29.25|\\$21.50\n",
        "\n",
        "<br>\n",
        "Use LP to find the mix of frames to produce that maximizes profit.\n",
        "<br><br>\n",
        "<p align='right'>(Winston & Albright, 2009, pp.98-99)</p>"
      ],
      "metadata": {
        "id": "-rjRJpqTCLj-"
      }
    },
    {
      "cell_type": "markdown",
      "source": [
        "- - -\n",
        "Go to [Excel Template](https://docs.google.com/spreadsheets/d/1crKxJExAaZ8lBytJ8kLPF3KFl6TVbLbdWQLL9TFtf5Y/edit?usp=sharing) !\n",
        "- - -"
      ],
      "metadata": {
        "id": "mr8UAdzLH-82"
      }
    },
    {
      "cell_type": "markdown",
      "source": [
        "Modify Monet’s product mix model so that there is\n",
        "no maximum sales constraint.\n",
        "- unbounded?\n",
        "- any changes in optimal solution?\n",
        "- any other effects?"
      ],
      "metadata": {
        "id": "xW2TEQNcIUDt"
      }
    },
    {
      "cell_type": "markdown",
      "source": [
        "###**Producing Footballs at Pigskin**\n",
        "###*a Multi-period production problem*\n",
        "The Pigskin Company produces footballs. Pigskin must decide how many footballs to\n",
        "produce each month. The company has decided to use a 6-month planning horizon. The\n",
        "forecasted demands for the next 6 months are 10,000, 15,000, 30,000, 35,000, 25,000, and\n",
        "10,000. Pigskin wants to meet these demands on time, knowing that it currently has 5000\n",
        "footballs in inventory and that it can use a given month’s production to help meet the de-\n",
        "mand for that month. (For simplicity, assume that production occurs during the month, and\n",
        "demand occurs at the end of the month.) During each month, there is enough production ca-\n",
        "pacity to produce up to 30,000 footballs, and there is enough storage capacity to store up to\n",
        "10,000 footballs at the end of the month, after demand has occurred. The forecasted produc-\n",
        "tion costs per football for the next 6 months are \\$12.50, \\$12.55, \\$12.70, \\$12.80, \\$12.85, and\n",
        "\\$12.95, respectively. The holding cost per football held in inventory at the end of any month\n",
        "is figured at 5% of the production cost for that month. (This cost includes the cost of storage\n",
        "and also the cost of money tied up in inventory.) The selling price for footballs is not con-\n",
        "sidered relevant to the production decision because Pigskin plans to satisfy all customer de-\n",
        "mand exactly when it occurs—at whatever the selling price is. Therefore, Pigskin wants to\n",
        "determine the production schedule that minimizes the total production and holding costs.\n",
        "<br><br>\n",
        "\n",
        "Use LP to find the production schedule that meets demand on time and minimizes total production costs and inventory holding costs.\n",
        "<br><br>\n",
        "<p align='right'>(Winston & Albright, 2009, pp.109)</p>"
      ],
      "metadata": {
        "id": "1Km2p_0ZQDzz"
      }
    },
    {
      "cell_type": "markdown",
      "source": [
        "###Construction of the LP model\n",
        "<br>\n",
        "\n",
        "####*The conservation of the flow constraints:*\n",
        "<br>\n",
        "\n",
        "- let $j$ denote the 6 months in the planning horizon:\n",
        "<br>$j=1,\\dots,6$\n",
        "\n",
        "then;\n",
        " - the demand in month $j$ will be ($D_j$),\n",
        " - the production in month $j$ will be ($P_j$),\n",
        " - the ending inventory at the end of month $j$ will be ($I_j$),\n",
        "<br>and, the beginning inventory will be ($I_0$)\n",
        "\n",
        "**e.g./** *for the first month...*\n",
        "<br>\"$P_1+I_0=D_1+I_1$\"\n",
        "<br>$P_1+5000=10000+I_1$\n",
        "<br><br>and,\n",
        "<br>$P_1 \\leq 30000$\n",
        "<br>$I_1 \\leq 10000$\n",
        "<br><br>cost incurred from production and ending inventory is\n",
        "<br>$\\$12.50P_1 + (0.05)\\$12.50I_1$\n",
        "- - -\n",
        "####***a debate:*** \n",
        "Do we need positive ending inventory at the end of month 6?\n",
        "<br>2 possible strategies:\n",
        "- keeping a buffer (leave it like you found it)\n",
        "- short-sighted cost minimization"
      ],
      "metadata": {
        "id": "MoeVWAXOV0VC"
      }
    },
    {
      "cell_type": "markdown",
      "source": [
        "- - -\n",
        "Go to [Excel Template](https://docs.google.com/spreadsheets/d/1dcE32YSalaBI2KFm5zKQZzP9xZnJodmYcvoh9da1wTI/edit?usp=sharing) !\n",
        "- - -"
      ],
      "metadata": {
        "id": "7KhBR1GKgVC9"
      }
    },
    {
      "cell_type": "markdown",
      "source": [
        "###**Textile Manufacturing at Great Threads**\n",
        "###*a Production mix problem*\n",
        "The Great Threads Company is capable of manufacturing shirts, shorts, pants, skirts,\n",
        "and jackets. Each type of clothing requires that Great Threads have the appropriate\n",
        "type of machinery available. The machinery needed to manufacture each type of clothing\n",
        "must be rented at the weekly rates shown in table below. This table also lists the amounts of\n",
        "cloth and labor required per unit of clothing, as well as the sales price and the unit vari-\n",
        "able cost for each type of clothing. In a given week, 4000 labor hours and 4500 square\n",
        "yards (sq yd) of cloth are available. The company wants to find a solution that maximizes\n",
        "its weekly profit.\n",
        "<br><br>\n",
        "\n",
        "\n",
        "&nbsp;|**Rental Cost**|**Labor Hours**|**Cloth (sq yd)**|**Sales Price**|**Unit Variable Cost**\n",
        ":-|:-:|:-:|:-:|:-:|:-:\n",
        "**Shirts**|\\$1500|2|3|\\$35|\\$20\n",
        "**Shorts**|\\$1200|1|2.5|\\$40|\\$10\n",
        "**Pants**|\\$1600|6|4|\\$65|\\$25\n",
        "**Skirts**|\\$1500|4|4.5|\\$70|\\$30\n",
        "**Jackets**|\\$1600|8|5.5|\\$110|\\$35\n",
        "\n",
        "<br>\n",
        "Use LP to reach maximum profits.\n",
        "<br><br>\n",
        "<p align='right'>(Winston & Albright, 2009, pp.298)</p>"
      ],
      "metadata": {
        "id": "rjUytKPIPz5J"
      }
    },
    {
      "cell_type": "markdown",
      "source": [
        "###**Worker and Production Planning at Surestep**\n",
        "###*a Multi-period production problem*\n",
        "During the next 4 months, the SureStep Company must meet (on time) the following\n",
        "demands for pairs of shoes: 3000 in month 1; 5000 in month 2; 2000 in month 3; and\n",
        "1000 in month 4. At the beginning of month 1, 500 pairs of shoes are on hand, and SureStep\n",
        "has 100 workers. A worker is paid \\$1500 per month. Each worker can work up to 160 hours\n",
        "a month before he or she receives overtime. A worker can work up to 20 hours of overtime\n",
        "per month and is paid \\$13 per hour for overtime labor. It takes 4 hours of labor and \\$15 of\n",
        "raw material to produce a pair of shoes. At the beginning of each month, workers can be\n",
        "hired or fired. Each hired worker costs \\$1600, and each fired worker costs \\$2000. At the\n",
        "end of each month, a holding cost of \\$3 per pair of shoes left in inventory is incurred. All\n",
        "of the production in a given month can be used to meet that month’s demand.\n",
        "<br><br>\n",
        "\n",
        "Develop an LP spreadsheet model that relates workforce and production\n",
        "decisions to monthly costs, and find the minimum cost\n",
        "<br><br>\n",
        "<p align='right'>(Winston & Albright, 2009, pp.150)</p>"
      ],
      "metadata": {
        "id": "GC4rYPFOStGH"
      }
    },
    {
      "cell_type": "code",
      "source": [],
      "metadata": {
        "id": "-TqVVfStR-JK"
      },
      "execution_count": null,
      "outputs": []
    }
  ]
}