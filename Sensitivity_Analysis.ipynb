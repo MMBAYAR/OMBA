{
  "nbformat": 4,
  "nbformat_minor": 0,
  "metadata": {
    "colab": {
      "provenance": [],
      "collapsed_sections": [],
      "authorship_tag": "ABX9TyMkNILrgxHX+rnKW5Ii046a",
      "include_colab_link": true
    },
    "kernelspec": {
      "name": "python3",
      "display_name": "Python 3"
    },
    "language_info": {
      "name": "python"
    }
  },
  "cells": [
    {
      "cell_type": "markdown",
      "metadata": {
        "id": "view-in-github",
        "colab_type": "text"
      },
      "source": [
        "<a href=\"https://colab.research.google.com/github/MMBAYAR/OMBA/blob/main/Sensitivity_Analysis.ipynb\" target=\"_parent\"><img src=\"https://colab.research.google.com/assets/colab-badge.svg\" alt=\"Open In Colab\"/></a>"
      ]
    },
    {
      "cell_type": "markdown",
      "source": [
        "##**SENSITIVITY ANALYSIS for LPs**\n",
        "\n",
        "Senisitivity analysis (a.k.a. What-if analysis, Post-optimality analysis) is all about investigating effects of parameter changes to the optimal solution.<br>\n",
        "\n",
        "Optimal solution includes:\n",
        "- Optimal objective function value ( $f(\\vec x^*)$ )\n",
        "- Optimal plan (optimal values for the decision variables ( $\\vec x^*$ )\n",
        "\n",
        "and the changes in parameters include:\n",
        "- Changes in objective function coefficients ( $Δ\\vec c$ )\n",
        "- Changes in constraint function coefficients ( $ΔA$ )\n",
        "- Changes in constraint right-hand-side (RHS) values ( $Δ\\vec b$ )\n",
        "\n",
        "####**Motivation**\n",
        "\n",
        "One of the assumptions for linear programming (LP) is certainty. Certainty implies that all parameters are known to the analyst and that they all are constant.<br>\n",
        "\n",
        "This is a strong assumption. In real life applications usually parameter values are obtained by data modeling (statistical models, ML models, etc.). Follows, in general the parameters employed in LP models are estimates of the real values and may differ from the real values ( $y = \\hat y+ε$ ).<br>\n",
        "\n",
        "In addition, for a real life application in a dynamic setting, optimal actions suggested by LP has an expiration date as the parameters change over time. Thus, decision-makers will be interested in the valid margins of parameters for the current optimal plan.<br>\n",
        "\n",
        "Lastly, suggested course action is sometimes against decision-makers vision (policies, strategies, etc.). In such cases, the decision-maker may ask, how much the parameters need to be altered to comply with her/his vision.<br>\n",
        "\n",
        "In short,\n",
        "- Parameters are estimates of real values and error may be significant,\n",
        "- In dynamics settings parameters may change over time,\n",
        "- Suggested solutions may not be compatible with company policies.\n",
        "\n",
        "####**Related Terminology**\n",
        "A ***basic variable*** is a positive valued decision variable in the optimal plan whereas, a ***non-basic variable*** is a zero valued decison variable in the optimal plan.<br>\n",
        "\n",
        "The ***reduced cost*** for any non-basic variable is the required decrease in the corresponding objective function coefficient to make the non-basic variable a basic variable (to include it in the optimal plan).<br>\n",
        "\n",
        "Hence, for a basic variable the reduced cost value is always 0.<br>\n",
        "\n",
        "For a ***binding constraint*** (active constraint), the LHS matches the RHS for the optimal decision variable values ( $g_i(\\vec x^*) = b_i$ ) whereas, for a ***non-binding constraint*** (inactive constraint), the LHS differs the RHS by a slack value for the optimal decision variable values( $g_i(\\vec x^*) + s_i = b_i$ ).<br>\n",
        "\n",
        "A ***slack variable*** is the idle part of a resource.<br>\n",
        "\n",
        "The ***shadow price*** is the change in the optimal objective function value when the RHS of some constraint is increased by 1 unit.<br>\n",
        "\n",
        "For non-binding constraints, the shadow prices are always zero. But, for binding constraints the shadow prices are either zero or non-zero."
      ],
      "metadata": {
        "id": "POOarMR0m_Dr"
      }
    }
  ]
}