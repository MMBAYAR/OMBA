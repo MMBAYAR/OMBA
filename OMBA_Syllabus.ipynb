{
  "nbformat": 4,
  "nbformat_minor": 0,
  "metadata": {
    "colab": {
      "name": "OMBA Syllabus.ipynb",
      "provenance": [],
      "authorship_tag": "ABX9TyPdGANHDYbImdP1XKCbhPsy",
      "include_colab_link": true
    },
    "kernelspec": {
      "name": "python3",
      "display_name": "Python 3"
    },
    "language_info": {
      "name": "python"
    }
  },
  "cells": [
    {
      "cell_type": "markdown",
      "metadata": {
        "id": "view-in-github",
        "colab_type": "text"
      },
      "source": [
        "<a href=\"https://colab.research.google.com/github/MMBAYAR/OMBA/blob/main/OMBA_Syllabus.ipynb\" target=\"_parent\"><img src=\"https://colab.research.google.com/assets/colab-badge.svg\" alt=\"Open In Colab\"/></a>"
      ]
    },
    {
      "cell_type": "markdown",
      "source": [
        "***\n",
        "***\n",
        "> # **Wellcome**\n",
        ">> # **to**\n",
        ">>> # **Modeling & Optimization**\n",
        ">>>> # **for**\n",
        ">>>>> # **Business Administrators !**\n",
        "***\n",
        "***\n",
        "- ### **Course Instructor :**\n",
        " - ### Mustafa Mehmet BAYAR, Ph.D.\n",
        "- ### **Office Hours:**\n",
        " - ### See Room 212's *Announcemets Board*\n",
        "***\n",
        "***\n",
        "- ### **Required Reading(s):**\n",
        " - ### Ragsdale, C. (2014). Spreadsheet modeling and decision analysis: a practical introduction to business analytics. Cengage Learning.\n",
        " - ### Winston, W. L., & Goldberg, J. B. (2004). Operations research: applications and algorithms (Vol. 3). Belmont: Thomson Brooks/Cole.\n",
        " - ### Weekly Handouts\n",
        "- ### **Recommended Reading(s):**\n",
        " - ### Acar, A. (1989). Linear Programming for Managerial Decisions. Middle East Technical University, Ankara, 331-360.\n",
        " - ### Rardin, R. L., & Rardin, R. L. (1998). Optimization in operations research (Vol. 166). Upper Saddle River, NJ: Prentice Hall.\n",
        " - ### Ulucan, A. (2004). Yöneylem araştırması: İşletmecilik uygulamalı/bilgisayar destekli modelleme. Siyasal kitabevi.\n",
        "***\n",
        "***\n",
        "- ### **Grading Policy:**\n",
        " - ### **The Assignments...**\n",
        "> ### There are 12 assignments, six before the mid-term and 6 after. These assignments$^1$ will ***contribute significantly*** to the final grading.\n",
        "> ### For properly formatted and complete submissions before the due date, the ***minimum grade*** is 30 out of 100 points. For late (*no later than 48 hours*) or poorly formatted submissions the  ***maximum grade*** is 70 out of 100 points.\n",
        "> ### Any submission 48+ hours later than the due date ***will not be accepted*** (no exceptions).\n",
        " - ### **Final Grading**\n",
        "> ### See ANKARA HACI BAYRAM VELİ ÜNİVERSİTESİ ÖN LİSANS-LİSANS EĞİTİM-ÖĞRETİM VE SINAV YÖNETMELİĞİ$^{2}$ \\ Section 5 \\ Article 24\n",
        " - ### **Absence**\n",
        "> ### See ANKARA HACI BAYRAM VELİ ÜNİVERSİTESİ ÖN LİSANS-LİSANS EĞİTİM-ÖĞRETİM VE SINAV YÖNETMELİĞİ \\ Section 3 \\ Article 15\n",
        "***\n",
        "( $^1$ ): Two assignments (one before midterms and one after) with the lowest grades will be omitted.\n",
        "***\n",
        "( $^{2}$ ): *https://www.mevzuat.gov.tr/mevzuat?MevzuatNo=33750&MevzuatTur=8&MevzuatTertip=5*\n",
        "***\n",
        "***\n",
        "- ### **Tentative Course Outline:**\n",
        "***\n",
        "Week 1 begins wiht the voting of the modeling medium (Spreadsheets or Python Environment). Default choice is the MS Excel Spreadsheets and may be switched to Jupyter Notebooks on a ***unanimous vote***.\n",
        "***\n",
        "\\begin{array}{lcl}\n",
        "Week\\ 1 & : & Introduction\\ to\\ Operations\\ Research:\\ Concepts,\\ Types\\ of\\ Models \\\\\n",
        "Week\\ 2 & : & Introduction\\ to\\ Linear\\ Programming\\ (LP):\\ Formulating\\ LP\\ models\\\\\n",
        "Week\\ 3 & : & The\\ Graphical\\ Method:\\ \n",
        "{\\begin{array}{ll}\n",
        "• & Geometric\\ interpretation\\ of\\ constraints\\ and\\ the\\ objective\\ function,\\\\ \n",
        "• & Solving\\ LP\\ problems\\ using\\ the\\ graphical\\ method\n",
        "\\end{array}} \\\\\n",
        "Week\\ 4 & : & Introduction\\  to\\  Spreadsheet\\ Modeling \\\\\n",
        "Week\\ 5 & : & Sensitivity\\ Analysis:\\ \n",
        "{\\begin{array}{ll}\n",
        "• & Concepts,\\\\ \n",
        "• & A\\ geometric\\ interpretation\\ of\\ the\\ sensitivity\\  analysis, \\\\ \n",
        "• & Post\\ optimality\\ analysis\\  based \\ on\\  the\\  simplex\\  solution \n",
        "\\end{array}} \\\\\n",
        "Week\\ 6 & : & LP\\  Applications:\\  Mixture\\  Problems \\\\\n",
        "Week\\ 7 & : & Primal\\ \\& \\ Dual\\ LP\\ Models \\\\\n",
        "Week\\ 8 & : & Mid-Term\\  Examinations \\\\\n",
        "Week\\ 9 & : & Introduction\\ to\\ Integer\\ Programming:\\ Pure\\ Integer\\ Programming\\ Problems \\\\\n",
        "Week\\ 10 & : & Introduction\\ to\\ Integer\\ Programming:\\ Mixed\\ Integer\\ Programming\\ Problems \\\\\n",
        "Week\\ 11 & : & Introduction\\ to\\ Integer\\ Programming:\\ Binary\\ Integer\\ Programming\\ Problems\\ \\& \\ Logical\\ Constraints \\\\\n",
        "Week\\ 12 & : & Introduction\\ to\\ Integer\\ Programming:\\ Binary\\ Integer\\ Programming\\ Problems\\ \\& \\ Logical\\ Constraints\\ (cont'd) \\\\\n",
        "Week\\ 13 & : & Introduction\\ to\\ Multiple\\ Objective\\ Decision\\ Making:\\ Goal\\ Programming\\ \\& \\ Soft\\ Constraints \\\\\n",
        "Week\\ 14 & : & Introduction\\ to\\ Multiple\\ Objective\\ Decision\\ Making:\\ Goal\\ Programming\\ \\& \\ Soft\\ Constraints\\ (cont'd) \\\\\n",
        "Week\\ 15 & : & Alternatives\\ to\\ Goal\\ Programming:\\ Multiple\\ Objective\\ Linear\\ Programming \\\\\n",
        "Week\\ 16 & : & Final\\ Examinations \\\\\n",
        "\\end{array}\n",
        "***\n",
        "***\n",
        "\n",
        "\n"
      ],
      "metadata": {
        "id": "E7rTfTYUCilb"
      }
    },
    {
      "cell_type": "code",
      "source": [
        ""
      ],
      "metadata": {
        "id": "PxWfSoiji2jC"
      },
      "execution_count": null,
      "outputs": []
    }
  ]
}